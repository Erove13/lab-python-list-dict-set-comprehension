{
 "cells": [
  {
   "cell_type": "markdown",
   "id": "25d7736c-ba17-4aff-b6bb-66eba20fbf4e",
   "metadata": {},
   "source": [
    "# Lab | List, Dict and Set Comprehension"
   ]
  },
  {
   "cell_type": "markdown",
   "id": "7dd3cbde-675a-4b81-92c3-f728846dbe06",
   "metadata": {},
   "source": [
    "## Exercise: Managing Customer Orders Optimized with Comprehension"
   ]
  },
  {
   "cell_type": "markdown",
   "id": "5d500160-2fb7-4777-b5e4-09d45ebaf328",
   "metadata": {},
   "source": [
    "In the previous exercise, you developed a program to manage customer orders and inventory. Now, let's take it a step further and incorporate comprehension into your code.\n",
    "\n",
    "Follow the steps below to complete the exercise:\n",
    "\n",
    "1. Review your code from the previous exercise and identify areas where you can apply comprehension to simplify and streamline your code. \n",
    "\n",
    "    - *Hint: Apply it to initialize inventory, updating the inventory and printing the updated inventory.*\n",
    "    \n",
    "    - For example, in initializing the inventory, we could have:\n",
    "    \n",
    "        ```python\n",
    "        def initialize_inventory(products):\n",
    "            inventory = {product: int(input(f\"Enter the quantity of {product}s available: \")) for product in products}\n",
    "            return inventory\n",
    "\n",
    "        ```\n",
    "<br>\n",
    "    \n",
    "    \n",
    "2. Modify the function get_customer_orders so it prompts the user to enter the number of customer orders and gathers the product names using a loop and user input. Use comprehension.\n",
    "\n",
    "3. Add a new function to calculate the total price of the customer order. For each product in customer_orders, prompt the user to enter the price of that product. Use comprehension to calculate the total price. Note: assume that the user can only have 1 unit of each product.\n",
    "\n",
    "4. Modify the update_inventory function to remove the product from the inventory if its quantity becomes zero after fulfilling the customer orders. Use comprehension to filter out the products with a quantity of zero from the inventory.\n",
    "\n",
    "5. Print the total price of the customer order.\n",
    "\n",
    "Your code should produce output similar to the following:\n",
    "\n",
    "```python\n",
    "Enter the quantity of t-shirts available:  5\n",
    "Enter the quantity of mugs available:  4\n",
    "Enter the quantity of hats available:  3\n",
    "Enter the quantity of books available:  2\n",
    "Enter the quantity of keychains available:  1\n",
    "Enter the number of customer orders:  2\n",
    "Enter the name of a product that a customer wants to order:  hat\n",
    "Enter the name of a product that a customer wants to order:  keychain\n",
    "\n",
    "Order Statistics:\n",
    "Total Products Ordered: 2\n",
    "Percentage of Unique Products Ordered: 40.0\n",
    "\n",
    "Updated Inventory:\n",
    "t-shirt: 5\n",
    "mug: 4\n",
    "hat: 2\n",
    "book: 2\n",
    "Enter the price of keychain:  5\n",
    "Enter the price of hat:  10\n",
    "Total Price: 15.0\n",
    "\n",
    "```\n"
   ]
  },
  {
   "cell_type": "code",
   "execution_count": 1,
   "id": "b1daff46",
   "metadata": {},
   "outputs": [],
   "source": [
    "products = [\"t-shirt\", \"mug\", \"hat\", \"book\", \"keychain\"]\n",
    "inventory = {}\n",
    "customer_orders = []\n",
    "prices = {}"
   ]
  },
  {
   "cell_type": "code",
   "execution_count": 33,
   "id": "529423f6",
   "metadata": {},
   "outputs": [],
   "source": [
    "def initialize_inventory(products):\n",
    "    global inventory\n",
    "    inventory = {product: int(input(f\"Enter the quantity of {product} available: \")) for product in products}\n",
    "    for product, quantity in inventory.items():\n",
    "        print(f\"Enter the quantity of {product} available: {quantity}\")\n",
    "\n",
    "\n",
    "def get_customer_orders():\n",
    "    global customer_orders\n",
    "    num_order = int(input(\"Enter the number of customer order: \"))\n",
    "    customer_orders = [input(f\"Enter the name of the order {i + 1}: \") for i in range(num_order)]\n",
    "    for num_order in customer_orders:\n",
    "        print(f'Enter the name of a product that a customer wants to order: {num_order}')\n",
    "    return customer_orders\n",
    "\n",
    "def total_price(customer_orders):\n",
    "    global prices\n",
    "    prices = {producto: float(input(f\"Enter the price of {producto}: \")) for producto in customer_orders}\n",
    "    total = sum(prices.values())\n",
    "    print(\"Total price:\", total)\n",
    "\n",
    "def update_inventory (customer_orders):\n",
    "    [inventory.update({pedido: cantidad - 1}) for pedido, cantidad in inventory.items() if pedido in customer_orders]\n",
    "    for product, quantity in inventory.items():\n",
    "        print(f\"{product}: {quantity}\")\n",
    "\n",
    "def calculate_order_statistics(customer_orders, products):\n",
    "    #Total Productos Ordered\n",
    "    TotalProducts = len(customer_orders)\n",
    "\n",
    "    #Percentage of Productos Ordered\n",
    "    PercentageProducts = (TotalProducts / len(products)) * 100\n",
    "\n",
    "    order_statistics = TotalProducts, PercentageProducts\n",
    "\n",
    "    print(\"\\nOrder Statistics:\")\n",
    "    print(f\"Total Products Ordered: {TotalProducts}\")\n",
    "    print(f\"Percentage of Unique Products Ordered: {PercentageProducts:.1f}\\n\")\n",
    "\n",
    "    return order_statistics"
   ]
  },
  {
   "cell_type": "code",
   "execution_count": 34,
   "id": "c6d8b8a5",
   "metadata": {},
   "outputs": [
    {
     "name": "stdout",
     "output_type": "stream",
     "text": [
      "Enter the quantity of t-shirts available: 6\n",
      "Enter the quantity of mugs available: 5\n",
      "Enter the quantity of hats available: 8\n",
      "Enter the quantity of books available: 4\n",
      "Enter the quantity of keychains available: 8\n",
      "Enter the name of a product that a customer wants to order: book\n",
      "\n",
      "Order Statistics:\n",
      "Total Products Ordered: 1\n",
      "Percentage of Unique Products Ordered: 20.0\n",
      "\n",
      "t-shirts: 5\n",
      "mugs: 4\n",
      "hats: 7\n",
      "books: 3\n",
      "keychains: 7\n",
      "Total price: 9.0\n"
     ]
    }
   ],
   "source": [
    "initialize_inventory(products)\n",
    "\n",
    "get_customer_orders()\n",
    "\n",
    "calculate_order_statistics(customer_orders, products)\n",
    "\n",
    "update_inventory (products)\n",
    "\n",
    "total_price(customer_orders)"
   ]
  }
 ],
 "metadata": {
  "kernelspec": {
   "display_name": "Python 3",
   "language": "python",
   "name": "python3"
  },
  "language_info": {
   "codemirror_mode": {
    "name": "ipython",
    "version": 3
   },
   "file_extension": ".py",
   "mimetype": "text/x-python",
   "name": "python",
   "nbconvert_exporter": "python",
   "pygments_lexer": "ipython3",
   "version": "3.12.1"
  }
 },
 "nbformat": 4,
 "nbformat_minor": 5
}
